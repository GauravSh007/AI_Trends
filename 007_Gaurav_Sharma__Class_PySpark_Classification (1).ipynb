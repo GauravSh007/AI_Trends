{
  "nbformat": 4,
  "nbformat_minor": 0,
  "metadata": {
    "colab": {
      "name": "007_Gaurav_Sharma_ Class_PySpark_Classification",
      "provenance": []
    },
    "kernelspec": {
      "name": "python3",
      "display_name": "Python 3"
    },
    "language_info": {
      "name": "python"
    }
  },
  "cells": [
    {
      "cell_type": "code",
      "execution_count": 1,
      "metadata": {
        "colab": {
          "base_uri": "https://localhost:8080/"
        },
        "id": "nm144gVxyWvE",
        "outputId": "1c3e04ea-1d74-4637-9a7d-08cba439561d"
      },
      "outputs": [
        {
          "output_type": "stream",
          "name": "stdout",
          "text": [
            "Collecting pyspark\n",
            "  Downloading pyspark-3.2.1.tar.gz (281.4 MB)\n",
            "\u001b[K     |████████████████████████████████| 281.4 MB 34 kB/s \n",
            "\u001b[?25hCollecting py4j==0.10.9.3\n",
            "  Downloading py4j-0.10.9.3-py2.py3-none-any.whl (198 kB)\n",
            "\u001b[K     |████████████████████████████████| 198 kB 22.3 MB/s \n",
            "\u001b[?25hBuilding wheels for collected packages: pyspark\n",
            "  Building wheel for pyspark (setup.py) ... \u001b[?25l\u001b[?25hdone\n",
            "  Created wheel for pyspark: filename=pyspark-3.2.1-py2.py3-none-any.whl size=281853642 sha256=6c13ec851a1bb1c05c1cab649642f377cd71913ac1d580d02c0b5bd4036e113f\n",
            "  Stored in directory: /root/.cache/pip/wheels/9f/f5/07/7cd8017084dce4e93e84e92efd1e1d5334db05f2e83bcef74f\n",
            "Successfully built pyspark\n",
            "Installing collected packages: py4j, pyspark\n",
            "Successfully installed py4j-0.10.9.3 pyspark-3.2.1\n"
          ]
        }
      ],
      "source": [
        "!pip install pyspark"
      ]
    },
    {
      "cell_type": "code",
      "source": [
        "from pyspark.ml import pipeline\n",
        "from pyspark.ml.classification import DecisionTreeClassifier\n",
        "from pyspark.ml.evaluation import MulticlassClassificationEvaluator"
      ],
      "metadata": {
        "id": "DER-8qX8zHE7"
      },
      "execution_count": 2,
      "outputs": []
    },
    {
      "cell_type": "code",
      "source": [
        "from pyspark.sql import SparkSession"
      ],
      "metadata": {
        "id": "0cQM7HZkztnt"
      },
      "execution_count": 3,
      "outputs": []
    },
    {
      "cell_type": "code",
      "source": [
        "spark=SparkSession.builder.appName(\"classification\").getOrCreate()"
      ],
      "metadata": {
        "id": "fF9o_FOTz02E"
      },
      "execution_count": 4,
      "outputs": []
    },
    {
      "cell_type": "markdown",
      "source": [
        "# Read The Data set in pyspark"
      ],
      "metadata": {
        "id": "0f7Uyl957IaL"
      }
    },
    {
      "cell_type": "code",
      "source": [
        "data = spark.read.format(\"csv\").load(\"/content/balance-scale.data\",header = True)"
      ],
      "metadata": {
        "id": "i1XgwLwm0B0b"
      },
      "execution_count": 8,
      "outputs": []
    },
    {
      "cell_type": "code",
      "source": [
        "data.show()"
      ],
      "metadata": {
        "colab": {
          "base_uri": "https://localhost:8080/"
        },
        "id": "EhErQt-J0dDw",
        "outputId": "2469f346-f302-4207-8660-aba4a866416b"
      },
      "execution_count": 9,
      "outputs": [
        {
          "output_type": "stream",
          "name": "stdout",
          "text": [
            "+---+---+---+---+---+\n",
            "|  B| 11| 12| 13| 14|\n",
            "+---+---+---+---+---+\n",
            "|  R|  1|  1|  1|  2|\n",
            "|  R|  1|  1|  1|  3|\n",
            "|  R|  1|  1|  1|  4|\n",
            "|  R|  1|  1|  1|  5|\n",
            "|  R|  1|  1|  2|  1|\n",
            "|  R|  1|  1|  2|  2|\n",
            "|  R|  1|  1|  2|  3|\n",
            "|  R|  1|  1|  2|  4|\n",
            "|  R|  1|  1|  2|  5|\n",
            "|  R|  1|  1|  3|  1|\n",
            "|  R|  1|  1|  3|  2|\n",
            "|  R|  1|  1|  3|  3|\n",
            "|  R|  1|  1|  3|  4|\n",
            "|  R|  1|  1|  3|  5|\n",
            "|  R|  1|  1|  4|  1|\n",
            "|  R|  1|  1|  4|  2|\n",
            "|  R|  1|  1|  4|  3|\n",
            "|  R|  1|  1|  4|  4|\n",
            "|  R|  1|  1|  4|  5|\n",
            "|  R|  1|  1|  5|  1|\n",
            "+---+---+---+---+---+\n",
            "only showing top 20 rows\n",
            "\n"
          ]
        }
      ]
    },
    {
      "cell_type": "code",
      "source": [
        "data.printSchema()"
      ],
      "metadata": {
        "colab": {
          "base_uri": "https://localhost:8080/"
        },
        "id": "11NDjcee0hk0",
        "outputId": "783cedaa-0d13-41ee-fe89-cd882c86a8ef"
      },
      "execution_count": 10,
      "outputs": [
        {
          "output_type": "stream",
          "name": "stdout",
          "text": [
            "root\n",
            " |-- B: string (nullable = true)\n",
            " |-- 11: string (nullable = true)\n",
            " |-- 12: string (nullable = true)\n",
            " |-- 13: string (nullable = true)\n",
            " |-- 14: string (nullable = true)\n",
            "\n"
          ]
        }
      ]
    },
    {
      "cell_type": "markdown",
      "source": [
        "#change the data type in pyspark"
      ],
      "metadata": {
        "id": "1qkRIHtF1j30"
      }
    },
    {
      "cell_type": "code",
      "source": [
        "data=data.withColumn('B',data['B'].astype('string'))\\\n",
        ".withColumn('11',data['11'].astype('float'))\\\n",
        ".withColumn('12',data['12'].astype('float'))\\\n",
        ".withColumn('13',data['13'].astype('float'))\\\n",
        ".withColumn('14',data['14'].astype('float'))"
      ],
      "metadata": {
        "id": "8TWhv3lA0lz5"
      },
      "execution_count": 12,
      "outputs": []
    },
    {
      "cell_type": "code",
      "source": [
        "data.printSchema()"
      ],
      "metadata": {
        "colab": {
          "base_uri": "https://localhost:8080/"
        },
        "id": "ixyhub3k1Xcx",
        "outputId": "d53761ef-e6f8-4875-a31c-928802c9b59d"
      },
      "execution_count": 13,
      "outputs": [
        {
          "output_type": "stream",
          "name": "stdout",
          "text": [
            "root\n",
            " |-- B: string (nullable = true)\n",
            " |-- 11: float (nullable = true)\n",
            " |-- 12: float (nullable = true)\n",
            " |-- 13: float (nullable = true)\n",
            " |-- 14: float (nullable = true)\n",
            "\n"
          ]
        }
      ]
    },
    {
      "cell_type": "code",
      "source": [
        " from pyspark.ml.feature import StringIndexer\n",
        "stringindexer =  StringIndexer(\n",
        "    inputCol = 'B',\n",
        "    outputCol = 'B1'\n",
        ")\n",
        "     \n",
        " "
      ],
      "metadata": {
        "id": "5Eom9kx7DJUr"
      },
      "execution_count": 15,
      "outputs": []
    },
    {
      "cell_type": "code",
      "source": [
        "data1 = stringindexer.fit(data)"
      ],
      "metadata": {
        "id": "fo41RbZnGNQG"
      },
      "execution_count": 16,
      "outputs": []
    },
    {
      "cell_type": "code",
      "source": [
        "data=data1.transform(data)"
      ],
      "metadata": {
        "id": "24XAOJFqGqq3"
      },
      "execution_count": 20,
      "outputs": []
    },
    {
      "cell_type": "code",
      "source": [
        "data.show()"
      ],
      "metadata": {
        "colab": {
          "base_uri": "https://localhost:8080/"
        },
        "id": "j7__t3cJGfmM",
        "outputId": "fd0f31b3-880c-46b6-ea14-bc258439f64a"
      },
      "execution_count": 21,
      "outputs": [
        {
          "output_type": "stream",
          "name": "stdout",
          "text": [
            "+---+---+---+---+---+---+\n",
            "|  B| 11| 12| 13| 14| B1|\n",
            "+---+---+---+---+---+---+\n",
            "|  R|1.0|1.0|1.0|2.0|1.0|\n",
            "|  R|1.0|1.0|1.0|3.0|1.0|\n",
            "|  R|1.0|1.0|1.0|4.0|1.0|\n",
            "|  R|1.0|1.0|1.0|5.0|1.0|\n",
            "|  R|1.0|1.0|2.0|1.0|1.0|\n",
            "|  R|1.0|1.0|2.0|2.0|1.0|\n",
            "|  R|1.0|1.0|2.0|3.0|1.0|\n",
            "|  R|1.0|1.0|2.0|4.0|1.0|\n",
            "|  R|1.0|1.0|2.0|5.0|1.0|\n",
            "|  R|1.0|1.0|3.0|1.0|1.0|\n",
            "|  R|1.0|1.0|3.0|2.0|1.0|\n",
            "|  R|1.0|1.0|3.0|3.0|1.0|\n",
            "|  R|1.0|1.0|3.0|4.0|1.0|\n",
            "|  R|1.0|1.0|3.0|5.0|1.0|\n",
            "|  R|1.0|1.0|4.0|1.0|1.0|\n",
            "|  R|1.0|1.0|4.0|2.0|1.0|\n",
            "|  R|1.0|1.0|4.0|3.0|1.0|\n",
            "|  R|1.0|1.0|4.0|4.0|1.0|\n",
            "|  R|1.0|1.0|4.0|5.0|1.0|\n",
            "|  R|1.0|1.0|5.0|1.0|1.0|\n",
            "+---+---+---+---+---+---+\n",
            "only showing top 20 rows\n",
            "\n"
          ]
        }
      ]
    },
    {
      "cell_type": "markdown",
      "source": [
        "# Using VectorAssembler to add feature column where all input columns combine as list \n",
        "\n",
        "\n",
        "# feature columns mai target column use nhi krte hai"
      ],
      "metadata": {
        "id": "tLzLr_1F3r6x"
      }
    },
    {
      "cell_type": "code",
      "source": [
        "from pyspark.ml.feature import VectorAssembler"
      ],
      "metadata": {
        "id": "smyN0Wk71cb0"
      },
      "execution_count": 23,
      "outputs": []
    },
    {
      "cell_type": "code",
      "source": [
        "va = VectorAssembler(\n",
        "    inputCols=['11','12','13','14'],\n",
        "    outputCol='features'\n",
        ")"
      ],
      "metadata": {
        "id": "WIksXAFg1wKh"
      },
      "execution_count": 24,
      "outputs": []
    },
    {
      "cell_type": "code",
      "source": [
        "data = va.transform(data)"
      ],
      "metadata": {
        "id": "IbpO5z9z2Eat"
      },
      "execution_count": 25,
      "outputs": []
    },
    {
      "cell_type": "code",
      "source": [
        "data.show()"
      ],
      "metadata": {
        "colab": {
          "base_uri": "https://localhost:8080/"
        },
        "id": "QllVDPLj2I3h",
        "outputId": "f2d11349-c058-46b1-d731-17b922f78880"
      },
      "execution_count": 26,
      "outputs": [
        {
          "output_type": "stream",
          "name": "stdout",
          "text": [
            "+---+---+---+---+---+---+-----------------+\n",
            "|  B| 11| 12| 13| 14| B1|         features|\n",
            "+---+---+---+---+---+---+-----------------+\n",
            "|  R|1.0|1.0|1.0|2.0|1.0|[1.0,1.0,1.0,2.0]|\n",
            "|  R|1.0|1.0|1.0|3.0|1.0|[1.0,1.0,1.0,3.0]|\n",
            "|  R|1.0|1.0|1.0|4.0|1.0|[1.0,1.0,1.0,4.0]|\n",
            "|  R|1.0|1.0|1.0|5.0|1.0|[1.0,1.0,1.0,5.0]|\n",
            "|  R|1.0|1.0|2.0|1.0|1.0|[1.0,1.0,2.0,1.0]|\n",
            "|  R|1.0|1.0|2.0|2.0|1.0|[1.0,1.0,2.0,2.0]|\n",
            "|  R|1.0|1.0|2.0|3.0|1.0|[1.0,1.0,2.0,3.0]|\n",
            "|  R|1.0|1.0|2.0|4.0|1.0|[1.0,1.0,2.0,4.0]|\n",
            "|  R|1.0|1.0|2.0|5.0|1.0|[1.0,1.0,2.0,5.0]|\n",
            "|  R|1.0|1.0|3.0|1.0|1.0|[1.0,1.0,3.0,1.0]|\n",
            "|  R|1.0|1.0|3.0|2.0|1.0|[1.0,1.0,3.0,2.0]|\n",
            "|  R|1.0|1.0|3.0|3.0|1.0|[1.0,1.0,3.0,3.0]|\n",
            "|  R|1.0|1.0|3.0|4.0|1.0|[1.0,1.0,3.0,4.0]|\n",
            "|  R|1.0|1.0|3.0|5.0|1.0|[1.0,1.0,3.0,5.0]|\n",
            "|  R|1.0|1.0|4.0|1.0|1.0|[1.0,1.0,4.0,1.0]|\n",
            "|  R|1.0|1.0|4.0|2.0|1.0|[1.0,1.0,4.0,2.0]|\n",
            "|  R|1.0|1.0|4.0|3.0|1.0|[1.0,1.0,4.0,3.0]|\n",
            "|  R|1.0|1.0|4.0|4.0|1.0|[1.0,1.0,4.0,4.0]|\n",
            "|  R|1.0|1.0|4.0|5.0|1.0|[1.0,1.0,4.0,5.0]|\n",
            "|  R|1.0|1.0|5.0|1.0|1.0|[1.0,1.0,5.0,1.0]|\n",
            "+---+---+---+---+---+---+-----------------+\n",
            "only showing top 20 rows\n",
            "\n"
          ]
        }
      ]
    },
    {
      "cell_type": "markdown",
      "source": [
        "#Split the train and test in pyspark"
      ],
      "metadata": {
        "id": "48mHpblH3IXt"
      }
    },
    {
      "cell_type": "code",
      "source": [
        "#Split\n",
        "trainingData,testData =data.randomSplit([0.7,0.3])"
      ],
      "metadata": {
        "id": "fyjxxM3g2Oc4"
      },
      "execution_count": 27,
      "outputs": []
    },
    {
      "cell_type": "code",
      "source": [
        "trainingData.show()"
      ],
      "metadata": {
        "colab": {
          "base_uri": "https://localhost:8080/"
        },
        "id": "Lkwe9X3k2mlP",
        "outputId": "238905c1-7705-4873-a26d-501fcf25c326"
      },
      "execution_count": 28,
      "outputs": [
        {
          "output_type": "stream",
          "name": "stdout",
          "text": [
            "+---+---+---+---+---+---+-----------------+\n",
            "|  B| 11| 12| 13| 14| B1|         features|\n",
            "+---+---+---+---+---+---+-----------------+\n",
            "|  B|1.0|2.0|2.0|1.0|2.0|[1.0,2.0,2.0,1.0]|\n",
            "|  B|1.0|4.0|1.0|4.0|2.0|[1.0,4.0,1.0,4.0]|\n",
            "|  B|2.0|1.0|1.0|2.0|2.0|[2.0,1.0,1.0,2.0]|\n",
            "|  B|2.0|1.0|2.0|1.0|2.0|[2.0,1.0,2.0,1.0]|\n",
            "|  B|2.0|2.0|1.0|4.0|2.0|[2.0,2.0,1.0,4.0]|\n",
            "|  B|2.0|3.0|2.0|3.0|2.0|[2.0,3.0,2.0,3.0]|\n",
            "|  B|2.0|4.0|2.0|4.0|2.0|[2.0,4.0,2.0,4.0]|\n",
            "|  B|2.0|4.0|4.0|2.0|2.0|[2.0,4.0,4.0,2.0]|\n",
            "|  B|2.0|5.0|2.0|5.0|2.0|[2.0,5.0,2.0,5.0]|\n",
            "|  B|3.0|1.0|1.0|3.0|2.0|[3.0,1.0,1.0,3.0]|\n",
            "|  B|3.0|4.0|4.0|3.0|2.0|[3.0,4.0,4.0,3.0]|\n",
            "|  B|3.0|5.0|5.0|3.0|2.0|[3.0,5.0,5.0,3.0]|\n",
            "|  B|4.0|1.0|2.0|2.0|2.0|[4.0,1.0,2.0,2.0]|\n",
            "|  B|4.0|1.0|4.0|1.0|2.0|[4.0,1.0,4.0,1.0]|\n",
            "|  B|4.0|2.0|4.0|2.0|2.0|[4.0,2.0,4.0,2.0]|\n",
            "|  B|4.0|3.0|4.0|3.0|2.0|[4.0,3.0,4.0,3.0]|\n",
            "|  B|4.0|5.0|4.0|5.0|2.0|[4.0,5.0,4.0,5.0]|\n",
            "|  B|5.0|1.0|1.0|5.0|2.0|[5.0,1.0,1.0,5.0]|\n",
            "|  B|5.0|1.0|5.0|1.0|2.0|[5.0,1.0,5.0,1.0]|\n",
            "|  B|5.0|3.0|3.0|5.0|2.0|[5.0,3.0,3.0,5.0]|\n",
            "+---+---+---+---+---+---+-----------------+\n",
            "only showing top 20 rows\n",
            "\n"
          ]
        }
      ]
    },
    {
      "cell_type": "code",
      "source": [
        "testData.show()"
      ],
      "metadata": {
        "colab": {
          "base_uri": "https://localhost:8080/"
        },
        "id": "1obrizQ72rFh",
        "outputId": "10c660f1-990d-490e-9b1d-7fdf0afa8881"
      },
      "execution_count": 29,
      "outputs": [
        {
          "output_type": "stream",
          "name": "stdout",
          "text": [
            "+---+---+---+---+---+---+-----------------+\n",
            "|  B| 11| 12| 13| 14| B1|         features|\n",
            "+---+---+---+---+---+---+-----------------+\n",
            "|  B|1.0|2.0|1.0|2.0|2.0|[1.0,2.0,1.0,2.0]|\n",
            "|  B|1.0|3.0|1.0|3.0|2.0|[1.0,3.0,1.0,3.0]|\n",
            "|  B|1.0|3.0|3.0|1.0|2.0|[1.0,3.0,3.0,1.0]|\n",
            "|  B|1.0|4.0|2.0|2.0|2.0|[1.0,4.0,2.0,2.0]|\n",
            "|  B|1.0|4.0|4.0|1.0|2.0|[1.0,4.0,4.0,1.0]|\n",
            "|  B|1.0|5.0|1.0|5.0|2.0|[1.0,5.0,1.0,5.0]|\n",
            "|  B|1.0|5.0|5.0|1.0|2.0|[1.0,5.0,5.0,1.0]|\n",
            "|  B|2.0|2.0|2.0|2.0|2.0|[2.0,2.0,2.0,2.0]|\n",
            "|  B|2.0|2.0|4.0|1.0|2.0|[2.0,2.0,4.0,1.0]|\n",
            "|  B|2.0|3.0|3.0|2.0|2.0|[2.0,3.0,3.0,2.0]|\n",
            "|  B|2.0|5.0|5.0|2.0|2.0|[2.0,5.0,5.0,2.0]|\n",
            "|  B|3.0|1.0|3.0|1.0|2.0|[3.0,1.0,3.0,1.0]|\n",
            "|  B|3.0|2.0|2.0|3.0|2.0|[3.0,2.0,2.0,3.0]|\n",
            "|  B|3.0|2.0|3.0|2.0|2.0|[3.0,2.0,3.0,2.0]|\n",
            "|  B|3.0|3.0|3.0|3.0|2.0|[3.0,3.0,3.0,3.0]|\n",
            "|  B|3.0|4.0|3.0|4.0|2.0|[3.0,4.0,3.0,4.0]|\n",
            "|  B|3.0|5.0|3.0|5.0|2.0|[3.0,5.0,3.0,5.0]|\n",
            "|  B|4.0|1.0|1.0|4.0|2.0|[4.0,1.0,1.0,4.0]|\n",
            "|  B|4.0|2.0|2.0|4.0|2.0|[4.0,2.0,2.0,4.0]|\n",
            "|  B|4.0|3.0|3.0|4.0|2.0|[4.0,3.0,3.0,4.0]|\n",
            "+---+---+---+---+---+---+-----------------+\n",
            "only showing top 20 rows\n",
            "\n"
          ]
        }
      ]
    },
    {
      "cell_type": "markdown",
      "source": [
        "#Create model labelCol = Target col, featureCol= features"
      ],
      "metadata": {
        "id": "qUeUf1-f3PLa"
      }
    },
    {
      "cell_type": "code",
      "source": [
        "dtmodel = DecisionTreeClassifier(labelCol=\"B1\",featuresCol=\"features\")"
      ],
      "metadata": {
        "id": "9rTwAPpi3R6n"
      },
      "execution_count": 30,
      "outputs": []
    },
    {
      "cell_type": "code",
      "source": [
        "dtmodelfit = dtmodel.fit(trainingData)"
      ],
      "metadata": {
        "id": "o5l4wLks3meh"
      },
      "execution_count": 31,
      "outputs": []
    },
    {
      "cell_type": "code",
      "source": [
        "predictions = dtmodelfit.transform(testData)"
      ],
      "metadata": {
        "id": "iB8peFzQ5QY6"
      },
      "execution_count": 32,
      "outputs": []
    },
    {
      "cell_type": "code",
      "source": [
        "predictions.columns"
      ],
      "metadata": {
        "colab": {
          "base_uri": "https://localhost:8080/"
        },
        "id": "_fg91v295gL7",
        "outputId": "548f2abd-a782-4566-9ed0-9f5060f16a4c"
      },
      "execution_count": 33,
      "outputs": [
        {
          "output_type": "execute_result",
          "data": {
            "text/plain": [
              "['B',\n",
              " '11',\n",
              " '12',\n",
              " '13',\n",
              " '14',\n",
              " 'B1',\n",
              " 'features',\n",
              " 'rawPrediction',\n",
              " 'probability',\n",
              " 'prediction']"
            ]
          },
          "metadata": {},
          "execution_count": 33
        }
      ]
    },
    {
      "cell_type": "markdown",
      "source": [
        "# select the prediction and infected column from pridictions"
      ],
      "metadata": {
        "id": "5mfiG3P2510T"
      }
    },
    {
      "cell_type": "code",
      "source": [
        "predictions.select(\"prediction\",\"B1\").show()"
      ],
      "metadata": {
        "colab": {
          "base_uri": "https://localhost:8080/"
        },
        "id": "ld14xW_F5n9p",
        "outputId": "cded5973-a8d2-4588-eb44-55f5ce1e5d04"
      },
      "execution_count": 34,
      "outputs": [
        {
          "output_type": "stream",
          "name": "stdout",
          "text": [
            "+----------+---+\n",
            "|prediction| B1|\n",
            "+----------+---+\n",
            "|       1.0|2.0|\n",
            "|       1.0|2.0|\n",
            "|       1.0|2.0|\n",
            "|       0.0|2.0|\n",
            "|       1.0|2.0|\n",
            "|       0.0|2.0|\n",
            "|       1.0|2.0|\n",
            "|       0.0|2.0|\n",
            "|       0.0|2.0|\n",
            "|       0.0|2.0|\n",
            "|       0.0|2.0|\n",
            "|       1.0|2.0|\n",
            "|       1.0|2.0|\n",
            "|       0.0|2.0|\n",
            "|       0.0|2.0|\n",
            "|       0.0|2.0|\n",
            "|       0.0|2.0|\n",
            "|       0.0|2.0|\n",
            "|       1.0|2.0|\n",
            "|       0.0|2.0|\n",
            "+----------+---+\n",
            "only showing top 20 rows\n",
            "\n"
          ]
        }
      ]
    },
    {
      "cell_type": "markdown",
      "source": [
        "# Evalution"
      ],
      "metadata": {
        "id": "FzXQIIp56Bdn"
      }
    },
    {
      "cell_type": "code",
      "source": [
        "\n",
        "eval = MulticlassClassificationEvaluator(\n",
        "    labelCol = \"B1\",\n",
        "    predictionCol = \"prediction\",\n",
        "    metricName = \"accuracy\"\n",
        ")"
      ],
      "metadata": {
        "id": "4xyZO8HL6EOZ"
      },
      "execution_count": 35,
      "outputs": []
    },
    {
      "cell_type": "code",
      "source": [
        "accuracy = eval.evaluate(predictions)"
      ],
      "metadata": {
        "id": "0u89zS_n6doH"
      },
      "execution_count": 36,
      "outputs": []
    },
    {
      "cell_type": "code",
      "source": [
        "print(accuracy)"
      ],
      "metadata": {
        "colab": {
          "base_uri": "https://localhost:8080/"
        },
        "id": "v6uXcO7B6xqY",
        "outputId": "2740f235-8237-4707-a761-fd602be4e2d0"
      },
      "execution_count": 37,
      "outputs": [
        {
          "output_type": "stream",
          "name": "stdout",
          "text": [
            "0.7593582887700535\n"
          ]
        }
      ]
    }
  ]
}